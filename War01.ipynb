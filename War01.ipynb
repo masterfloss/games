{
  "nbformat": 4,
  "nbformat_minor": 0,
  "metadata": {
    "colab": {
      "provenance": [],
      "authorship_tag": "ABX9TyNVaFCqUTAkz7QYVCPivt1T",
      "include_colab_link": true
    },
    "kernelspec": {
      "name": "python3",
      "display_name": "Python 3"
    },
    "language_info": {
      "name": "python"
    }
  },
  "cells": [
    {
      "cell_type": "markdown",
      "metadata": {
        "id": "view-in-github",
        "colab_type": "text"
      },
      "source": [
        "<a href=\"https://colab.research.google.com/github/masterfloss/games/blob/main/War01.ipynb\" target=\"_parent\"><img src=\"https://colab.research.google.com/assets/colab-badge.svg\" alt=\"Open In Colab\"/></a>"
      ]
    },
    {
      "cell_type": "code",
      "execution_count": null,
      "metadata": {
        "id": "nATcZlj1w9Ut"
      },
      "outputs": [],
      "source": []
    },
    {
      "cell_type": "code",
      "source": [
        "\n",
        "class Participant:\n",
        "    def __init__(self, name, hp, attack_power, defense_power):\n",
        "        self.name = name\n",
        "        self.hp = hp\n",
        "        self.attack_power = attack_power\n",
        "        self.defense_power = defense_power\n",
        "\n",
        "    def attack(self, target):\n",
        "        damage = max(self.attack_power - target.defense_power, 0)\n",
        "        target.take_damage(damage)\n",
        "        print(f\"{self.name} attacks {target.name} for {damage} damage.\")\n",
        "\n",
        "    def defend(self, damage):\n",
        "        self.hp -= max(damage - self.defense_power, 0)\n",
        "        print(f\"{self.name} defends and takes {max(damage - self.defense_power, 0)} damage.\")\n",
        "\n",
        "    def take_damage(self, damage):\n",
        "        self.hp -= damage\n",
        "        print(f\"{self.name} now has {self.hp} HP.\")\n",
        "\n",
        "    def is_alive(self):\n",
        "        return self.hp > 0\n",
        "\n",
        "class BattleArena:\n",
        "    def __init__(self, participants):\n",
        "        self.participants = participants\n",
        "\n",
        "    def start_battle(self):\n",
        "        print(\"Battle begins!\")\n",
        "        while len(self.participants) > 1:\n",
        "            self.round()\n",
        "\n",
        "    def round(self):\n",
        "        for attacker in self.participants:\n",
        "            if not attacker.is_alive():\n",
        "                continue\n",
        "            targets = [target for target in self.participants if target != attacker and target.is_alive()]\n",
        "            if targets:\n",
        "                target = targets[0]  # Simple targeting for now\n",
        "                attacker.attack(target)\n",
        "                if not target.is_alive():\n",
        "                    self.participants.remove(target)\n",
        "                    print(f\"{target.name} has been defeated!\")\n",
        "\n",
        "    def end_battle(self):\n",
        "        if len(self.participants) == 1:\n",
        "            print(f\"{self.participants[0].name} wins the battle!\")\n",
        "        else:\n",
        "            print(\"The battle ended in a draw.\")"
      ],
      "metadata": {
        "id": "zhlLU3c2xole"
      },
      "execution_count": 1,
      "outputs": []
    },
    {
      "cell_type": "code",
      "source": [],
      "metadata": {
        "id": "4rz8-6Lg0RPx"
      },
      "execution_count": null,
      "outputs": []
    },
    {
      "cell_type": "code",
      "source": [
        "\n",
        "# Create participants\n",
        "warrior = Participant(\"Warrior\", 100, 20, 10)\n",
        "mage = Participant(\"Mage\", 80, 15, 8)\n",
        "rogue = Participant(\"Rogue\", 70, 25, 3)\n",
        "\n",
        "# Create the battle arena\n",
        "battle = BattleArena([warrior, mage, rogue])\n",
        "\n",
        "# Start the battle\n",
        "battle.start_battle()\n",
        "print(\"-----\")\n",
        "battle.end_battle()"
      ],
      "metadata": {
        "colab": {
          "base_uri": "https://localhost:8080/"
        },
        "id": "KGEr0EFKx-u3",
        "outputId": "2396a6a2-f726-474f-8846-df3b7bad96b4"
      },
      "execution_count": 8,
      "outputs": [
        {
          "output_type": "stream",
          "name": "stdout",
          "text": [
            "Battle begins!\n",
            "Mage now has 68 HP.\n",
            "Warrior attacks Mage for 12 damage.\n",
            "Warrior now has 95 HP.\n",
            "Mage attacks Warrior for 5 damage.\n",
            "Warrior now has 80 HP.\n",
            "Rogue attacks Warrior for 15 damage.\n",
            "Mage now has 56 HP.\n",
            "Warrior attacks Mage for 12 damage.\n",
            "Warrior now has 75 HP.\n",
            "Mage attacks Warrior for 5 damage.\n",
            "Warrior now has 60 HP.\n",
            "Rogue attacks Warrior for 15 damage.\n",
            "Mage now has 44 HP.\n",
            "Warrior attacks Mage for 12 damage.\n",
            "Warrior now has 55 HP.\n",
            "Mage attacks Warrior for 5 damage.\n",
            "Warrior now has 40 HP.\n",
            "Rogue attacks Warrior for 15 damage.\n",
            "Mage now has 32 HP.\n",
            "Warrior attacks Mage for 12 damage.\n",
            "Warrior now has 35 HP.\n",
            "Mage attacks Warrior for 5 damage.\n",
            "Warrior now has 20 HP.\n",
            "Rogue attacks Warrior for 15 damage.\n",
            "Mage now has 20 HP.\n",
            "Warrior attacks Mage for 12 damage.\n",
            "Warrior now has 15 HP.\n",
            "Mage attacks Warrior for 5 damage.\n",
            "Warrior now has 0 HP.\n",
            "Rogue attacks Warrior for 15 damage.\n",
            "Warrior has been defeated!\n",
            "Rogue now has 58 HP.\n",
            "Mage attacks Rogue for 12 damage.\n",
            "Mage now has 3 HP.\n",
            "Rogue attacks Mage for 17 damage.\n",
            "Rogue now has 46 HP.\n",
            "Mage attacks Rogue for 12 damage.\n",
            "Mage now has -14 HP.\n",
            "Rogue attacks Mage for 17 damage.\n",
            "Mage has been defeated!\n",
            "-----\n",
            "Rogue wins the battle!\n"
          ]
        }
      ]
    }
  ]
}